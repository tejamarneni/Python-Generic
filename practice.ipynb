{
 "cells": [
  {
   "cell_type": "code",
   "execution_count": null,
   "id": "0b29e6a8",
   "metadata": {},
   "outputs": [],
   "source": [
    "from torchvision import models\n",
    "dir(models)"
   ]
  },
  {
   "cell_type": "code",
   "execution_count": null,
   "id": "0ca0ceb1",
   "metadata": {},
   "outputs": [],
   "source": [
    "import itertools\n",
    "dir(itertools)"
   ]
  },
  {
   "cell_type": "code",
   "execution_count": null,
   "id": "faa3c06f",
   "metadata": {},
   "outputs": [],
   "source": [
    "import itertools\n",
    "import operator\n",
    "\n",
    "numbers = [1, 2, 3, 4, 5]\n",
    "\n",
    "prd = list(itertools.accumulate(numbers,operator.sub))\n",
    "print(prd)\n",
    "initial_balance = 1000\n",
    "transactions = [50, -200, 120, -30, 75]\n",
    "\n",
    "account_history = list(itertools.accumulate([initial_balance] + transactions))\n",
    "account_history"
   ]
  },
  {
   "cell_type": "code",
   "execution_count": null,
   "id": "ae743ba9",
   "metadata": {},
   "outputs": [],
   "source": [
    "import operator\n",
    "help(operator.countOf)"
   ]
  },
  {
   "cell_type": "code",
   "execution_count": null,
   "id": "b8bb0ad2",
   "metadata": {},
   "outputs": [],
   "source": [
    "import itertools\n",
    "\n",
    "user_ids = [101, 102, 103, 104, 201, 202, 203, 204, 301]\n",
    "api_limit = 3\n",
    "\n",
    "batch = []\n",
    "i=0\n",
    "for id_batch in itertools.batched(user_ids, api_limit):\n",
    "    print(f\"Processing batch of user IDs: {id_batch}\")\n",
    "    batch.append(id_batch)\n",
    "    i += 1\n",
    "    # In a real application, you would make your API call here, e.g.:\n",
    "    # api.fetch_user_data(id_batch)\n",
    "batch"
   ]
  },
  {
   "cell_type": "code",
   "execution_count": null,
   "id": "1f84f609",
   "metadata": {},
   "outputs": [],
   "source": [
    "import itertools\n",
    "\n",
    "list1 = ['a', 'b', 'c']\n",
    "list2 = [1, 2, 3]\n",
    "\n",
    "# Chain the two lists together\n",
    "chained_iterator = itertools.chain(list1, list2)\n",
    "\n",
    "# Iterate over the result\n",
    "for item in chained_iterator:\n",
    "    print(item, end=' ')"
   ]
  },
  {
   "cell_type": "code",
   "execution_count": null,
   "id": "509fbe15",
   "metadata": {},
   "outputs": [],
   "source": [
    "import itertools\n",
    "\n",
    "list_of_lists = [[['a', 'b', 'c'], [1, 2, 3], ['X', 'Y', 'Z'],[4,5]],[6,7,9]]\n",
    "\n",
    "# Chain the inner lists together\n",
    "chained_iterator = itertools.chain.from_iterable(list_of_lists)\n",
    "\n",
    "print(list(chained_iterator))"
   ]
  },
  {
   "cell_type": "code",
   "execution_count": null,
   "id": "a35e538c",
   "metadata": {},
   "outputs": [],
   "source": [
    "def flatten(nested_list):\n",
    "    \"\"\"Recursively flattens a list with irregular nesting.\"\"\"\n",
    "    for item in nested_list:\n",
    "        if isinstance(item, list):\n",
    "            # If the item is a list, yield from the result of flattening it\n",
    "            yield from flatten(item)\n",
    "        else:\n",
    "            # If the item is not a list, yield the item itself\n",
    "            yield item\n",
    "\n",
    "my_list = [[['a', 'b', 'c'], [1, 2, 3], ['X', 'Y', 'Z'], [4, 5]], [6, 7, 9],[4,2,1]]\n",
    "\n",
    "# The function returns a generator, so we convert it to a list\n",
    "flat_list = list(flatten(my_list))\n",
    "\n",
    "print(flat_list)"
   ]
  },
  {
   "cell_type": "code",
   "execution_count": null,
   "id": "776b88fe",
   "metadata": {},
   "outputs": [],
   "source": [
    "import numpy as np\n",
    "dict_val = {'a':[5,2,1],'b':[4,8,1]}\n",
    "#dict_val['c'] = [x+y for x,y in zip(dict_val['a'],dict_val['b'])]\n",
    "dict_val['c'] = (np.array(dict_val['a']) + np.array(dict_val['b'])).tolist()\n",
    "#dict_val['c'] = dict_val['c'].tolist()\n",
    "dict_val"
   ]
  },
  {
   "cell_type": "code",
   "execution_count": null,
   "id": "438faa5e",
   "metadata": {},
   "outputs": [],
   "source": [
    "x = 'fly'\n",
    "isinstance(x,(float,int))\n",
    "print(type(x))"
   ]
  },
  {
   "cell_type": "code",
   "execution_count": null,
   "id": "e05dee63",
   "metadata": {},
   "outputs": [],
   "source": [
    "import numpy as np\n",
    "a = np.array([5,2.2,4],dtype=np.int16)\n",
    "print(a)\n",
    "print(type(a[1]))"
   ]
  },
  {
   "cell_type": "code",
   "execution_count": null,
   "id": "bc5f15e4",
   "metadata": {},
   "outputs": [],
   "source": [
    "print(5 == 5.00)\n",
    "print(5 is 5.00)\n"
   ]
  },
  {
   "cell_type": "code",
   "execution_count": null,
   "id": "d03ff629",
   "metadata": {},
   "outputs": [],
   "source": [
    "print(None is False)\n",
    "print(0 == False)\n",
    "print('val' == True)"
   ]
  },
  {
   "cell_type": "code",
   "execution_count": null,
   "id": "7f79d79a",
   "metadata": {},
   "outputs": [],
   "source": [
    "def flatten(lst):\n",
    "    for item in lst:\n",
    "        if isinstance(item,list):\n",
    "            yield from flatten(item)\n",
    "        else:\n",
    "            yield item\n",
    "\n",
    "a = [[3,5,6],[4,2,6],[1,9],5]\n",
    "b = list(flatten(a))\n",
    "print(a)\n",
    "print(b)"
   ]
  },
  {
   "cell_type": "code",
   "execution_count": null,
   "id": "9f2098c2",
   "metadata": {},
   "outputs": [],
   "source": [
    "def factorial(num: int) -> int:\n",
    "    if num == 1 or num == 0:\n",
    "        return 1\n",
    "    else:\n",
    "        return num * factorial(num - 1)\n",
    "print(factorial(8))"
   ]
  },
  {
   "cell_type": "code",
   "execution_count": null,
   "id": "c0f90567",
   "metadata": {},
   "outputs": [],
   "source": [
    "import numpy as np\n",
    "a = np.array([4,2,7])\n",
    "b = np.array([1,7,3])\n",
    "c = a + b\n",
    "c"
   ]
  },
  {
   "cell_type": "code",
   "execution_count": null,
   "id": "c80671c6",
   "metadata": {},
   "outputs": [],
   "source": [
    "e:list = [5,2,4,8]\n",
    "f = [4,1,7]\n",
    "e + f"
   ]
  },
  {
   "cell_type": "code",
   "execution_count": null,
   "id": "b9701635",
   "metadata": {},
   "outputs": [],
   "source": [
    "a:dict = {'a':[4,5,6]}\n",
    "a.update({'b':[5,6]})\n",
    "a"
   ]
  },
  {
   "cell_type": "code",
   "execution_count": null,
   "id": "b0ec778f",
   "metadata": {},
   "outputs": [],
   "source": [
    "def div_val(a: int, b: int):\n",
    "    '''This is a function to get Quoient '''\n",
    "    try:\n",
    "        return a/b\n",
    "    except ZeroDivisionError:\n",
    "        print(\"The value of b cannot be 0\")\n",
    "r = div_val(0,0)\n",
    "print(r)"
   ]
  },
  {
   "cell_type": "code",
   "execution_count": null,
   "id": "848e559d",
   "metadata": {},
   "outputs": [],
   "source": [
    "import math\n",
    "#dir(math)"
   ]
  },
  {
   "cell_type": "code",
   "execution_count": null,
   "id": "50d8efbf",
   "metadata": {},
   "outputs": [],
   "source": [
    "with open('test2.txt','w') as f:\n",
    "    lines_gen = (f'This is line {i}\\n' for i in range(10_000))\n",
    "    f.writelines(lines_gen)"
   ]
  },
  {
   "cell_type": "code",
   "execution_count": null,
   "id": "a4d1cd05",
   "metadata": {},
   "outputs": [],
   "source": [
    "with open('test3.txt','w') as f:\n",
    "    #lines_gen = (f'This is line {i}\\n' for i in range(10_000))\n",
    "    for i in range(10_000):\n",
    "        f.write(f'{i}\\n')"
   ]
  },
  {
   "cell_type": "code",
   "execution_count": null,
   "id": "fa899dbf",
   "metadata": {},
   "outputs": [],
   "source": [
    "original_dict = {'a': 1, 'b': 2, 'c': 3}\n",
    "inverted_dict = {}\n",
    "\n",
    "for key, value in original_dict.items():\n",
    "    inverted_dict[value] = key\n",
    "\n",
    "print(inverted_dict)"
   ]
  },
  {
   "cell_type": "code",
   "execution_count": null,
   "id": "dd3f1a0b",
   "metadata": {},
   "outputs": [],
   "source": [
    "from datetime import datetime\n",
    "import time\n",
    "with open('log.txt','w') as f:\n",
    "    for i in range(0,10):\n",
    "        print(datetime.now().strftime('%Y%m%d_%H:%M:%S - '),i)\n",
    "        f.write(datetime.now().strftime('%Y%m%d_%H:%M:%S - '))\n",
    "        time.sleep(1)\n",
    "        f.write(str(i))\n",
    "        f.write(\"\\n\")"
   ]
  },
  {
   "cell_type": "code",
   "execution_count": null,
   "id": "1af012f0",
   "metadata": {},
   "outputs": [],
   "source": [
    "a = [5,6,73,1,8,32,54]\n",
    "for num in a:\n",
    "    print(num)\n"
   ]
  },
  {
   "cell_type": "code",
   "execution_count": 7,
   "id": "ff88d83b",
   "metadata": {},
   "outputs": [
    {
     "data": {
      "text/plain": [
       "'2.3.2'"
      ]
     },
     "execution_count": 7,
     "metadata": {},
     "output_type": "execute_result"
    }
   ],
   "source": [
    "import pandas as pd\n",
    "import numpy as np\n",
    "pd.__version__"
   ]
  },
  {
   "cell_type": "code",
   "execution_count": 9,
   "id": "0427778a",
   "metadata": {},
   "outputs": [
    {
     "data": {
      "text/plain": [
       "dtype('int16')"
      ]
     },
     "execution_count": 9,
     "metadata": {},
     "output_type": "execute_result"
    }
   ],
   "source": [
    "a = pd.Series([4,5,6],dtype=np.int16)\n",
    "a.dtype"
   ]
  },
  {
   "cell_type": "code",
   "execution_count": 10,
   "id": "c7275efd",
   "metadata": {},
   "outputs": [
    {
     "data": {
      "text/plain": [
       "0     apple\n",
       "1    banana\n",
       "2    orange\n",
       "Name: fruit, dtype: object"
      ]
     },
     "execution_count": 10,
     "metadata": {},
     "output_type": "execute_result"
    }
   ],
   "source": [
    "pd.Series(['apple','banana','orange'],name='fruit')"
   ]
  },
  {
   "cell_type": "code",
   "execution_count": 11,
   "id": "c30407a3",
   "metadata": {},
   "outputs": [
    {
     "data": {
      "text/html": [
       "<div>\n",
       "<style scoped>\n",
       "    .dataframe tbody tr th:only-of-type {\n",
       "        vertical-align: middle;\n",
       "    }\n",
       "\n",
       "    .dataframe tbody tr th {\n",
       "        vertical-align: top;\n",
       "    }\n",
       "\n",
       "    .dataframe thead th {\n",
       "        text-align: right;\n",
       "    }\n",
       "</style>\n",
       "<table border=\"1\" class=\"dataframe\">\n",
       "  <thead>\n",
       "    <tr style=\"text-align: right;\">\n",
       "      <th></th>\n",
       "      <th>A</th>\n",
       "      <th>B</th>\n",
       "    </tr>\n",
       "  </thead>\n",
       "  <tbody>\n",
       "    <tr>\n",
       "      <th>0</th>\n",
       "      <td>1</td>\n",
       "      <td>4</td>\n",
       "    </tr>\n",
       "    <tr>\n",
       "      <th>1</th>\n",
       "      <td>2</td>\n",
       "      <td>7</td>\n",
       "    </tr>\n",
       "  </tbody>\n",
       "</table>\n",
       "</div>"
      ],
      "text/plain": [
       "   A  B\n",
       "0  1  4\n",
       "1  2  7"
      ]
     },
     "execution_count": 11,
     "metadata": {},
     "output_type": "execute_result"
    }
   ],
   "source": [
    "pd.DataFrame([[1,4],[2,7]],columns=['A','B'])"
   ]
  },
  {
   "cell_type": "code",
   "execution_count": 25,
   "id": "dade65a2",
   "metadata": {},
   "outputs": [
    {
     "data": {
      "text/plain": [
       "'Does not Exist'"
      ]
     },
     "execution_count": 25,
     "metadata": {},
     "output_type": "execute_result"
    }
   ],
   "source": [
    "a = {'A':[4,5,6],'B':[7,2,1]}\n",
    "a.get('D','Does not Exist')"
   ]
  },
  {
   "cell_type": "code",
   "execution_count": 26,
   "id": "9d1f1770",
   "metadata": {},
   "outputs": [
    {
     "data": {
      "text/plain": [
       "['__class__',\n",
       " '__class_getitem__',\n",
       " '__contains__',\n",
       " '__delattr__',\n",
       " '__delitem__',\n",
       " '__dir__',\n",
       " '__doc__',\n",
       " '__eq__',\n",
       " '__format__',\n",
       " '__ge__',\n",
       " '__getattribute__',\n",
       " '__getitem__',\n",
       " '__getstate__',\n",
       " '__gt__',\n",
       " '__hash__',\n",
       " '__init__',\n",
       " '__init_subclass__',\n",
       " '__ior__',\n",
       " '__iter__',\n",
       " '__le__',\n",
       " '__len__',\n",
       " '__lt__',\n",
       " '__ne__',\n",
       " '__new__',\n",
       " '__or__',\n",
       " '__reduce__',\n",
       " '__reduce_ex__',\n",
       " '__repr__',\n",
       " '__reversed__',\n",
       " '__ror__',\n",
       " '__setattr__',\n",
       " '__setitem__',\n",
       " '__sizeof__',\n",
       " '__str__',\n",
       " '__subclasshook__',\n",
       " 'clear',\n",
       " 'copy',\n",
       " 'fromkeys',\n",
       " 'get',\n",
       " 'items',\n",
       " 'keys',\n",
       " 'pop',\n",
       " 'popitem',\n",
       " 'setdefault',\n",
       " 'update',\n",
       " 'values']"
      ]
     },
     "execution_count": 26,
     "metadata": {},
     "output_type": "execute_result"
    }
   ],
   "source": [
    "dir(dict)"
   ]
  },
  {
   "cell_type": "code",
   "execution_count": 18,
   "id": "0d5b0808",
   "metadata": {},
   "outputs": [
    {
     "data": {
      "text/plain": [
       "Dog    5\n",
       "Rat    6\n",
       "Cat    7\n",
       "Bat    8\n",
       "dtype: int64"
      ]
     },
     "execution_count": 18,
     "metadata": {},
     "output_type": "execute_result"
    }
   ],
   "source": [
    "pd.Series([5,6,7,8],index=['Dog','Rat','Cat','Bat'])"
   ]
  },
  {
   "cell_type": "code",
   "execution_count": 31,
   "id": "44ee974a",
   "metadata": {},
   "outputs": [
    {
     "data": {
      "text/plain": [
       "'animal'"
      ]
     },
     "execution_count": 31,
     "metadata": {},
     "output_type": "execute_result"
    }
   ],
   "source": [
    "idx = pd.Index(['Dog','Cat','Human'],name='animal')\n",
    "ser = pd.Series([4,4,2],index=idx,name='No of Legs')\n",
    "ser.index.name"
   ]
  },
  {
   "cell_type": "code",
   "execution_count": 42,
   "id": "442a5531",
   "metadata": {},
   "outputs": [
    {
     "data": {
      "text/html": [
       "<div>\n",
       "<style scoped>\n",
       "    .dataframe tbody tr th:only-of-type {\n",
       "        vertical-align: middle;\n",
       "    }\n",
       "\n",
       "    .dataframe tbody tr th {\n",
       "        vertical-align: top;\n",
       "    }\n",
       "\n",
       "    .dataframe thead th {\n",
       "        text-align: right;\n",
       "    }\n",
       "</style>\n",
       "<table border=\"1\" class=\"dataframe\">\n",
       "  <thead>\n",
       "    <tr style=\"text-align: right;\">\n",
       "      <th></th>\n",
       "      <th>Age</th>\n",
       "      <th>Height</th>\n",
       "      <th>Eye_Color</th>\n",
       "    </tr>\n",
       "    <tr>\n",
       "      <th>person</th>\n",
       "      <th></th>\n",
       "      <th></th>\n",
       "      <th></th>\n",
       "    </tr>\n",
       "  </thead>\n",
       "  <tbody>\n",
       "    <tr>\n",
       "      <th>Jack</th>\n",
       "      <td>24</td>\n",
       "      <td>180</td>\n",
       "      <td>Blue</td>\n",
       "    </tr>\n",
       "    <tr>\n",
       "      <th>Jill</th>\n",
       "      <td>27</td>\n",
       "      <td>185</td>\n",
       "      <td>Black</td>\n",
       "    </tr>\n",
       "  </tbody>\n",
       "</table>\n",
       "</div>"
      ],
      "text/plain": [
       "        Age  Height Eye_Color\n",
       "person                       \n",
       "Jack     24     180      Blue\n",
       "Jill     27     185     Black"
      ]
     },
     "execution_count": 42,
     "metadata": {},
     "output_type": "execute_result"
    }
   ],
   "source": [
    "idx = pd.Index(['Jack','Jill'],name='person')\n",
    "df = pd.DataFrame([[24,180,'Blue'],[27,185,'Black']],index=idx,columns=['Age','Height','Eye_Color'])\n",
    "df"
   ]
  },
  {
   "cell_type": "code",
   "execution_count": 59,
   "id": "b774a23f",
   "metadata": {},
   "outputs": [
    {
     "name": "stdout",
     "output_type": "stream",
     "text": [
      "r [5, 7, 1, 2, 0, 56, 43, 89]\n",
      "t [89, 56, 43, 7, 5, 2, 1, 0]\n",
      "r [5, 7, 1, 2, 0, 56, 43, 89]\n"
     ]
    }
   ],
   "source": [
    "t = [5,7,1,2,0,56,43,89]\n",
    "r = t.copy()\n",
    "print('r',r)\n",
    "t.sort(reverse=True)\n",
    "print(\"t\",t)\n",
    "print('r',r)"
   ]
  },
  {
   "cell_type": "code",
   "execution_count": 60,
   "id": "7a410d32",
   "metadata": {},
   "outputs": [
    {
     "name": "stdout",
     "output_type": "stream",
     "text": [
      "Address of r 4603948800\n",
      "Address of t 4611537024\n"
     ]
    }
   ],
   "source": [
    "print('Address of r',id(r))\n",
    "print('Address of t',id(t))"
   ]
  },
  {
   "cell_type": "code",
   "execution_count": 69,
   "id": "74814362",
   "metadata": {},
   "outputs": [
    {
     "name": "stdout",
     "output_type": "stream",
     "text": [
      "Address of df 4606296768\n",
      "Address of df2 4599162608\n"
     ]
    },
    {
     "data": {
      "text/html": [
       "<div>\n",
       "<style scoped>\n",
       "    .dataframe tbody tr th:only-of-type {\n",
       "        vertical-align: middle;\n",
       "    }\n",
       "\n",
       "    .dataframe tbody tr th {\n",
       "        vertical-align: top;\n",
       "    }\n",
       "\n",
       "    .dataframe thead th {\n",
       "        text-align: right;\n",
       "    }\n",
       "</style>\n",
       "<table border=\"1\" class=\"dataframe\">\n",
       "  <thead>\n",
       "    <tr style=\"text-align: right;\">\n",
       "      <th></th>\n",
       "      <th>Age</th>\n",
       "      <th>Height</th>\n",
       "      <th>Eye_Color</th>\n",
       "    </tr>\n",
       "    <tr>\n",
       "      <th>person</th>\n",
       "      <th></th>\n",
       "      <th></th>\n",
       "      <th></th>\n",
       "    </tr>\n",
       "  </thead>\n",
       "  <tbody>\n",
       "    <tr>\n",
       "      <th>Jack</th>\n",
       "      <td>24</td>\n",
       "      <td>180</td>\n",
       "      <td>Blue</td>\n",
       "    </tr>\n",
       "    <tr>\n",
       "      <th>Jill</th>\n",
       "      <td>27</td>\n",
       "      <td>185</td>\n",
       "      <td>Black</td>\n",
       "    </tr>\n",
       "  </tbody>\n",
       "</table>\n",
       "</div>"
      ],
      "text/plain": [
       "        Age  Height Eye_Color\n",
       "person                       \n",
       "Jack     24     180      Blue\n",
       "Jill     27     185     Black"
      ]
     },
     "execution_count": 69,
     "metadata": {},
     "output_type": "execute_result"
    }
   ],
   "source": [
    "df2 = df.copy()\n",
    "print('Address of df',id(df))\n",
    "print('Address of df2',id(df2))\n",
    "df2"
   ]
  },
  {
   "cell_type": "code",
   "execution_count": 4,
   "id": "f2bd74de",
   "metadata": {},
   "outputs": [
    {
     "name": "stdout",
     "output_type": "stream",
     "text": [
      "t1 4530261184\n",
      "t2 4530261184\n"
     ]
    }
   ],
   "source": [
    "t1 = tuple()\n",
    "t2 = tuple()\n",
    "print('t1',id(t1))\n",
    "print('t2',id(t2))"
   ]
  },
  {
   "cell_type": "code",
   "execution_count": 6,
   "id": "a8f1a1a6",
   "metadata": {},
   "outputs": [
    {
     "name": "stdout",
     "output_type": "stream",
     "text": [
      "t1: ()\n",
      "t2: (3, 4, 5)\n",
      "t1 4530261184\n",
      "t2 4578579200\n",
      "<class 'tuple'>\n"
     ]
    }
   ],
   "source": [
    "t2 = tuple([3,4,5])\n",
    "print('t1:',t1)\n",
    "print('t2:',t2)\n",
    "print('t1',id(t1))\n",
    "print('t2',id(t2))\n",
    "print(type(t2))"
   ]
  },
  {
   "cell_type": "code",
   "execution_count": 1,
   "id": "093b7344",
   "metadata": {},
   "outputs": [
    {
     "data": {
      "text/html": [
       "<div>\n",
       "<style scoped>\n",
       "    .dataframe tbody tr th:only-of-type {\n",
       "        vertical-align: middle;\n",
       "    }\n",
       "\n",
       "    .dataframe tbody tr th {\n",
       "        vertical-align: top;\n",
       "    }\n",
       "\n",
       "    .dataframe thead th {\n",
       "        text-align: right;\n",
       "    }\n",
       "</style>\n",
       "<table border=\"1\" class=\"dataframe\">\n",
       "  <thead>\n",
       "    <tr style=\"text-align: right;\">\n",
       "      <th></th>\n",
       "      <th>age</th>\n",
       "      <th>height</th>\n",
       "      <th>eye_color</th>\n",
       "    </tr>\n",
       "  </thead>\n",
       "  <tbody>\n",
       "    <tr>\n",
       "      <th>0</th>\n",
       "      <td>24</td>\n",
       "      <td>180</td>\n",
       "      <td>blue</td>\n",
       "    </tr>\n",
       "    <tr>\n",
       "      <th>1</th>\n",
       "      <td>42</td>\n",
       "      <td>166</td>\n",
       "      <td>brown</td>\n",
       "    </tr>\n",
       "    <tr>\n",
       "      <th>2</th>\n",
       "      <td>22</td>\n",
       "      <td>160</td>\n",
       "      <td>green</td>\n",
       "    </tr>\n",
       "  </tbody>\n",
       "</table>\n",
       "</div>"
      ],
      "text/plain": [
       "   age  height eye_color\n",
       "0   24     180      blue\n",
       "1   42     166     brown\n",
       "2   22     160     green"
      ]
     },
     "execution_count": 1,
     "metadata": {},
     "output_type": "execute_result"
    }
   ],
   "source": [
    "import pandas as pd\n",
    "df = pd.DataFrame([[24,180,'blue'],[42,166,'brown'],[22,160,'green']],columns=['age','height','eye_color'])\n",
    "df"
   ]
  },
  {
   "cell_type": "code",
   "execution_count": 2,
   "id": "dfea860d",
   "metadata": {},
   "outputs": [
    {
     "data": {
      "text/plain": [
       "array([1, 0])"
      ]
     },
     "execution_count": 2,
     "metadata": {},
     "output_type": "execute_result"
    }
   ],
   "source": [
    "col_idx = df.columns.get_indexer(['height','age'])\n",
    "col_idx"
   ]
  },
  {
   "cell_type": "code",
   "execution_count": 3,
   "id": "75a5fced",
   "metadata": {},
   "outputs": [
    {
     "data": {
      "text/html": [
       "<div>\n",
       "<style scoped>\n",
       "    .dataframe tbody tr th:only-of-type {\n",
       "        vertical-align: middle;\n",
       "    }\n",
       "\n",
       "    .dataframe tbody tr th {\n",
       "        vertical-align: top;\n",
       "    }\n",
       "\n",
       "    .dataframe thead th {\n",
       "        text-align: right;\n",
       "    }\n",
       "</style>\n",
       "<table border=\"1\" class=\"dataframe\">\n",
       "  <thead>\n",
       "    <tr style=\"text-align: right;\">\n",
       "      <th></th>\n",
       "      <th>height</th>\n",
       "      <th>age</th>\n",
       "    </tr>\n",
       "  </thead>\n",
       "  <tbody>\n",
       "    <tr>\n",
       "      <th>0</th>\n",
       "      <td>180</td>\n",
       "      <td>24</td>\n",
       "    </tr>\n",
       "    <tr>\n",
       "      <th>2</th>\n",
       "      <td>160</td>\n",
       "      <td>22</td>\n",
       "    </tr>\n",
       "    <tr>\n",
       "      <th>1</th>\n",
       "      <td>166</td>\n",
       "      <td>42</td>\n",
       "    </tr>\n",
       "  </tbody>\n",
       "</table>\n",
       "</div>"
      ],
      "text/plain": [
       "   height  age\n",
       "0     180   24\n",
       "2     160   22\n",
       "1     166   42"
      ]
     },
     "execution_count": 3,
     "metadata": {},
     "output_type": "execute_result"
    }
   ],
   "source": [
    "df.iloc[[0,2,1],col_idx]"
   ]
  },
  {
   "cell_type": "code",
   "execution_count": 4,
   "id": "2d1829e5",
   "metadata": {},
   "outputs": [
    {
     "data": {
      "text/plain": [
       "7.485001913000005"
      ]
     },
     "execution_count": 4,
     "metadata": {},
     "output_type": "execute_result"
    }
   ],
   "source": [
    "import timeit\n",
    "\n",
    "def get_indexer_approach():\n",
    "    col_idx = df.columns.get_indexer(['age','eye_color'])\n",
    "    df.iloc[[0,1],col_idx]\n",
    "\n",
    "timeit.timeit(get_indexer_approach,number=10_000)"
   ]
  },
  {
   "cell_type": "code",
   "execution_count": 5,
   "id": "0782bbdd",
   "metadata": {},
   "outputs": [
    {
     "data": {
      "text/plain": [
       "5.331864935999988"
      ]
     },
     "execution_count": 5,
     "metadata": {},
     "output_type": "execute_result"
    }
   ],
   "source": [
    "two_step_app = lambda: df[['age','eye_color']].iloc[[0,1]]\n",
    "timeit.timeit(two_step_app,number=10_000)"
   ]
  },
  {
   "cell_type": "code",
   "execution_count": 6,
   "id": "478fe20e",
   "metadata": {},
   "outputs": [
    {
     "data": {
      "text/html": [
       "<div>\n",
       "<style scoped>\n",
       "    .dataframe tbody tr th:only-of-type {\n",
       "        vertical-align: middle;\n",
       "    }\n",
       "\n",
       "    .dataframe tbody tr th {\n",
       "        vertical-align: top;\n",
       "    }\n",
       "\n",
       "    .dataframe thead th {\n",
       "        text-align: right;\n",
       "    }\n",
       "</style>\n",
       "<table border=\"1\" class=\"dataframe\">\n",
       "  <thead>\n",
       "    <tr style=\"text-align: right;\">\n",
       "      <th></th>\n",
       "      <th>eye_color</th>\n",
       "    </tr>\n",
       "  </thead>\n",
       "  <tbody>\n",
       "    <tr>\n",
       "      <th>0</th>\n",
       "      <td>blue</td>\n",
       "    </tr>\n",
       "    <tr>\n",
       "      <th>1</th>\n",
       "      <td>brown</td>\n",
       "    </tr>\n",
       "    <tr>\n",
       "      <th>2</th>\n",
       "      <td>green</td>\n",
       "    </tr>\n",
       "  </tbody>\n",
       "</table>\n",
       "</div>"
      ],
      "text/plain": [
       "  eye_color\n",
       "0      blue\n",
       "1     brown\n",
       "2     green"
      ]
     },
     "execution_count": 6,
     "metadata": {},
     "output_type": "execute_result"
    }
   ],
   "source": [
    "df.filter(like='_')"
   ]
  },
  {
   "cell_type": "code",
   "execution_count": 7,
   "id": "a26fcfa7",
   "metadata": {},
   "outputs": [
    {
     "data": {
      "text/html": [
       "<div>\n",
       "<style scoped>\n",
       "    .dataframe tbody tr th:only-of-type {\n",
       "        vertical-align: middle;\n",
       "    }\n",
       "\n",
       "    .dataframe tbody tr th {\n",
       "        vertical-align: top;\n",
       "    }\n",
       "\n",
       "    .dataframe thead th {\n",
       "        text-align: right;\n",
       "    }\n",
       "</style>\n",
       "<table border=\"1\" class=\"dataframe\">\n",
       "  <thead>\n",
       "    <tr style=\"text-align: right;\">\n",
       "      <th></th>\n",
       "      <th>int_col</th>\n",
       "      <th>float_col</th>\n",
       "      <th>string_col</th>\n",
       "    </tr>\n",
       "  </thead>\n",
       "  <tbody>\n",
       "    <tr>\n",
       "      <th>0</th>\n",
       "      <td>0</td>\n",
       "      <td>1.0</td>\n",
       "      <td>2</td>\n",
       "    </tr>\n",
       "    <tr>\n",
       "      <th>1</th>\n",
       "      <td>4</td>\n",
       "      <td>8.0</td>\n",
       "      <td>16</td>\n",
       "    </tr>\n",
       "  </tbody>\n",
       "</table>\n",
       "</div>"
      ],
      "text/plain": [
       "   int_col  float_col string_col\n",
       "0        0        1.0          2\n",
       "1        4        8.0         16"
      ]
     },
     "execution_count": 7,
     "metadata": {},
     "output_type": "execute_result"
    }
   ],
   "source": [
    "df_dtypes = pd.DataFrame([[0,1.0,'2'],[4,8.0,'16']],columns=['int_col','float_col','string_col'])\n",
    "df_dtypes"
   ]
  },
  {
   "cell_type": "code",
   "execution_count": 8,
   "id": "594f208c",
   "metadata": {},
   "outputs": [
    {
     "data": {
      "text/html": [
       "<div>\n",
       "<style scoped>\n",
       "    .dataframe tbody tr th:only-of-type {\n",
       "        vertical-align: middle;\n",
       "    }\n",
       "\n",
       "    .dataframe tbody tr th {\n",
       "        vertical-align: top;\n",
       "    }\n",
       "\n",
       "    .dataframe thead th {\n",
       "        text-align: right;\n",
       "    }\n",
       "</style>\n",
       "<table border=\"1\" class=\"dataframe\">\n",
       "  <thead>\n",
       "    <tr style=\"text-align: right;\">\n",
       "      <th></th>\n",
       "      <th>string_col</th>\n",
       "    </tr>\n",
       "  </thead>\n",
       "  <tbody>\n",
       "    <tr>\n",
       "      <th>0</th>\n",
       "      <td>2</td>\n",
       "    </tr>\n",
       "    <tr>\n",
       "      <th>1</th>\n",
       "      <td>16</td>\n",
       "    </tr>\n",
       "  </tbody>\n",
       "</table>\n",
       "</div>"
      ],
      "text/plain": [
       "  string_col\n",
       "0          2\n",
       "1         16"
      ]
     },
     "execution_count": 8,
     "metadata": {},
     "output_type": "execute_result"
    }
   ],
   "source": [
    "df_dtypes.select_dtypes(include='object')"
   ]
  },
  {
   "cell_type": "code",
   "execution_count": 9,
   "id": "9d695856",
   "metadata": {},
   "outputs": [
    {
     "data": {
      "text/html": [
       "<div>\n",
       "<style scoped>\n",
       "    .dataframe tbody tr th:only-of-type {\n",
       "        vertical-align: middle;\n",
       "    }\n",
       "\n",
       "    .dataframe tbody tr th {\n",
       "        vertical-align: top;\n",
       "    }\n",
       "\n",
       "    .dataframe thead th {\n",
       "        text-align: right;\n",
       "    }\n",
       "</style>\n",
       "<table border=\"1\" class=\"dataframe\">\n",
       "  <thead>\n",
       "    <tr style=\"text-align: right;\">\n",
       "      <th></th>\n",
       "      <th>string_col</th>\n",
       "    </tr>\n",
       "  </thead>\n",
       "  <tbody>\n",
       "    <tr>\n",
       "      <th>0</th>\n",
       "      <td>2</td>\n",
       "    </tr>\n",
       "    <tr>\n",
       "      <th>1</th>\n",
       "      <td>16</td>\n",
       "    </tr>\n",
       "  </tbody>\n",
       "</table>\n",
       "</div>"
      ],
      "text/plain": [
       "  string_col\n",
       "0          2\n",
       "1         16"
      ]
     },
     "execution_count": 9,
     "metadata": {},
     "output_type": "execute_result"
    }
   ],
   "source": [
    "df_dtypes.select_dtypes(exclude=['int','float'])"
   ]
  },
  {
   "cell_type": "code",
   "execution_count": 10,
   "id": "b4649ac3",
   "metadata": {},
   "outputs": [
    {
     "name": "stdout",
     "output_type": "stream",
     "text": [
      "f: 9.01342\n",
      "d: 9.013419999999999987494447850622236728668212890625\n"
     ]
    }
   ],
   "source": [
    "from decimal import Decimal\n",
    "f = float(9.01342)\n",
    "d = Decimal(9.01342)\n",
    "print('f:',f)\n",
    "print('d:',d)"
   ]
  },
  {
   "cell_type": "code",
   "execution_count": 11,
   "id": "311a5392",
   "metadata": {},
   "outputs": [
    {
     "data": {
      "text/html": [
       "<div>\n",
       "<style scoped>\n",
       "    .dataframe tbody tr th:only-of-type {\n",
       "        vertical-align: middle;\n",
       "    }\n",
       "\n",
       "    .dataframe tbody tr th {\n",
       "        vertical-align: top;\n",
       "    }\n",
       "\n",
       "    .dataframe thead th {\n",
       "        text-align: right;\n",
       "    }\n",
       "</style>\n",
       "<table border=\"1\" class=\"dataframe\">\n",
       "  <thead>\n",
       "    <tr style=\"text-align: right;\">\n",
       "      <th></th>\n",
       "      <th>int_col</th>\n",
       "      <th>float_col</th>\n",
       "      <th>string_col</th>\n",
       "      <th>dec_col</th>\n",
       "    </tr>\n",
       "  </thead>\n",
       "  <tbody>\n",
       "    <tr>\n",
       "      <th>0</th>\n",
       "      <td>0</td>\n",
       "      <td>1.0</td>\n",
       "      <td>2</td>\n",
       "      <td>2</td>\n",
       "    </tr>\n",
       "    <tr>\n",
       "      <th>1</th>\n",
       "      <td>4</td>\n",
       "      <td>8.0</td>\n",
       "      <td>16</td>\n",
       "      <td>16</td>\n",
       "    </tr>\n",
       "  </tbody>\n",
       "</table>\n",
       "</div>"
      ],
      "text/plain": [
       "   int_col  float_col string_col dec_col\n",
       "0        0        1.0          2       2\n",
       "1        4        8.0         16      16"
      ]
     },
     "execution_count": 11,
     "metadata": {},
     "output_type": "execute_result"
    }
   ],
   "source": [
    "df_dtypes['dec_col'] = df_dtypes['string_col'].apply(Decimal)\n",
    "df_dtypes"
   ]
  },
  {
   "cell_type": "code",
   "execution_count": 12,
   "id": "0d73cff4",
   "metadata": {},
   "outputs": [
    {
     "data": {
      "text/html": [
       "<div>\n",
       "<style scoped>\n",
       "    .dataframe tbody tr th:only-of-type {\n",
       "        vertical-align: middle;\n",
       "    }\n",
       "\n",
       "    .dataframe tbody tr th {\n",
       "        vertical-align: top;\n",
       "    }\n",
       "\n",
       "    .dataframe thead th {\n",
       "        text-align: right;\n",
       "    }\n",
       "</style>\n",
       "<table border=\"1\" class=\"dataframe\">\n",
       "  <thead>\n",
       "    <tr style=\"text-align: right;\">\n",
       "      <th></th>\n",
       "      <th>0</th>\n",
       "      <th>1</th>\n",
       "    </tr>\n",
       "  </thead>\n",
       "  <tbody>\n",
       "    <tr>\n",
       "      <th>0</th>\n",
       "      <td>0</td>\n",
       "      <td>1</td>\n",
       "    </tr>\n",
       "    <tr>\n",
       "      <th>1</th>\n",
       "      <td>2</td>\n",
       "      <td>3</td>\n",
       "    </tr>\n",
       "    <tr>\n",
       "      <th>2</th>\n",
       "      <td>4</td>\n",
       "      <td>5</td>\n",
       "    </tr>\n",
       "  </tbody>\n",
       "</table>\n",
       "</div>"
      ],
      "text/plain": [
       "   0  1\n",
       "0  0  1\n",
       "1  2  3\n",
       "2  4  5"
      ]
     },
     "execution_count": 12,
     "metadata": {},
     "output_type": "execute_result"
    }
   ],
   "source": [
    "import numpy as np\n",
    "df_mask = pd.DataFrame(np.arange(6).reshape(3,-1))\n",
    "df_mask"
   ]
  },
  {
   "cell_type": "code",
   "execution_count": 13,
   "id": "f655718d",
   "metadata": {},
   "outputs": [],
   "source": [
    "mask = [True,False,True]\n"
   ]
  },
  {
   "cell_type": "code",
   "execution_count": 14,
   "id": "1b8e5165",
   "metadata": {},
   "outputs": [
    {
     "data": {
      "text/plain": [
       "first    last \n",
       "John     Smith    0\n",
       "         Doe      1\n",
       "Jane     Doe      2\n",
       "Stephen  Smith    3\n",
       "dtype: int64"
      ]
     },
     "execution_count": 14,
     "metadata": {},
     "output_type": "execute_result"
    }
   ],
   "source": [
    "idx = pd.MultiIndex.from_tuples([('John','Smith'),('John','Doe'),('Jane','Doe'),('Stephen','Smith')],names=['first','last'])\n",
    "ser = pd.Series(range(4),index=idx)\n",
    "ser"
   ]
  },
  {
   "cell_type": "code",
   "execution_count": 19,
   "id": "7c45e74b",
   "metadata": {},
   "outputs": [
    {
     "data": {
      "text/plain": [
       "Decimal('13.5664')"
      ]
     },
     "execution_count": 19,
     "metadata": {},
     "output_type": "execute_result"
    }
   ],
   "source": [
    "flo_val = float(6.7832)\n",
    "dec_val = Decimal(str(flo_val))\n",
    "dec_val*2"
   ]
  },
  {
   "cell_type": "code",
   "execution_count": 2,
   "id": "1d2c9ab3",
   "metadata": {},
   "outputs": [
    {
     "data": {
      "text/plain": [
       "0    0\n",
       "1    1\n",
       "2    2\n",
       "3    3\n",
       "4    4\n",
       "dtype: Int8"
      ]
     },
     "execution_count": 2,
     "metadata": {},
     "output_type": "execute_result"
    }
   ],
   "source": [
    "import pandas as pd\n",
    "pd.Series(range(5),dtype=pd.Int8Dtype())"
   ]
  },
  {
   "cell_type": "code",
   "execution_count": 4,
   "id": "6ad91599",
   "metadata": {},
   "outputs": [
    {
     "data": {
      "text/plain": [
       "0    True\n",
       "dtype: boolean"
      ]
     },
     "execution_count": 4,
     "metadata": {},
     "output_type": "execute_result"
    }
   ],
   "source": [
    "ser1 = pd.Series([1_00_000.123],dtype=pd.Float32Dtype())\n",
    "ser2 = pd.Series([1_00_000.124],dtype=pd.Float32Dtype())\n",
    "ser1 == ser2"
   ]
  },
  {
   "cell_type": "code",
   "execution_count": 5,
   "id": "d874ffae",
   "metadata": {},
   "outputs": [
    {
     "data": {
      "text/plain": [
       "0    False\n",
       "dtype: boolean"
      ]
     },
     "execution_count": 5,
     "metadata": {},
     "output_type": "execute_result"
    }
   ],
   "source": [
    "ser1 = pd.Series([1_00_000.123],dtype=pd.Float64Dtype())\n",
    "ser2 = pd.Series([1_00_000.124],dtype=pd.Float64Dtype())\n",
    "ser1 == ser2"
   ]
  },
  {
   "cell_type": "code",
   "execution_count": 6,
   "id": "8bf1f6cd",
   "metadata": {},
   "outputs": [
    {
     "data": {
      "text/plain": [
       "False"
      ]
     },
     "execution_count": 6,
     "metadata": {},
     "output_type": "execute_result"
    }
   ],
   "source": [
    "import numpy as np\n",
    "np.nan == np.nan"
   ]
  },
  {
   "cell_type": "code",
   "execution_count": 7,
   "id": "31bbb0d7",
   "metadata": {},
   "outputs": [
    {
     "data": {
      "text/plain": [
       "<NA>"
      ]
     },
     "execution_count": 7,
     "metadata": {},
     "output_type": "execute_result"
    }
   ],
   "source": [
    "pd.NA == pd.NA"
   ]
  },
  {
   "cell_type": "code",
   "execution_count": 11,
   "id": "65728fa6",
   "metadata": {},
   "outputs": [
    {
     "data": {
      "text/plain": [
       "0    0\n",
       "dtype: Int64"
      ]
     },
     "execution_count": 11,
     "metadata": {},
     "output_type": "execute_result"
    }
   ],
   "source": [
    "ser = pd.Series(range(3),dtype=pd.Int64Dtype())\n",
    "mask = pd.Series([True,pd.NA,False],dtype=pd.BooleanDtype())\n",
    "ser[mask]"
   ]
  },
  {
   "cell_type": "code",
   "execution_count": null,
   "id": "865dc1f8",
   "metadata": {},
   "outputs": [
    {
     "data": {
      "text/plain": [
       "0    foo\n",
       "1    bar\n",
       "2    baz\n",
       "dtype: category\n",
       "Categories (3, object): ['bar', 'baz', 'foo']"
      ]
     },
     "execution_count": 12,
     "metadata": {},
     "output_type": "execute_result"
    }
   ],
   "source": [
    "values = ['foo','bar','baz']\n",
    "val_ser = pd.Series(values,dtype=pd.CategoricalDtype())\n",
    "val_ser\n",
    "\n",
    "values = ['foo','bar','baz']\n",
    "val_ser = pd.Series(values,dtype=pd.StringDtype())\n",
    "val_ser"
   ]
  },
  {
   "cell_type": "code",
   "execution_count": 20,
   "id": "1e011474",
   "metadata": {},
   "outputs": [
    {
     "name": "stdout",
     "output_type": "stream",
     "text": [
      "object\n",
      "int64\n",
      "category\n",
      "int64\n"
     ]
    },
    {
     "data": {
      "text/html": [
       "<div>\n",
       "<style scoped>\n",
       "    .dataframe tbody tr th:only-of-type {\n",
       "        vertical-align: middle;\n",
       "    }\n",
       "\n",
       "    .dataframe tbody tr th {\n",
       "        vertical-align: top;\n",
       "    }\n",
       "\n",
       "    .dataframe thead th {\n",
       "        text-align: right;\n",
       "    }\n",
       "</style>\n",
       "<table border=\"1\" class=\"dataframe\">\n",
       "  <thead>\n",
       "    <tr style=\"text-align: right;\">\n",
       "      <th></th>\n",
       "      <th>animal</th>\n",
       "      <th>age</th>\n",
       "    </tr>\n",
       "  </thead>\n",
       "  <tbody>\n",
       "    <tr>\n",
       "      <th>0</th>\n",
       "      <td>cat</td>\n",
       "      <td>2</td>\n",
       "    </tr>\n",
       "    <tr>\n",
       "      <th>1</th>\n",
       "      <td>dog</td>\n",
       "      <td>6</td>\n",
       "    </tr>\n",
       "    <tr>\n",
       "      <th>2</th>\n",
       "      <td>cat</td>\n",
       "      <td>1</td>\n",
       "    </tr>\n",
       "    <tr>\n",
       "      <th>3</th>\n",
       "      <td>rat</td>\n",
       "      <td>5</td>\n",
       "    </tr>\n",
       "    <tr>\n",
       "      <th>4</th>\n",
       "      <td>bat</td>\n",
       "      <td>4</td>\n",
       "    </tr>\n",
       "    <tr>\n",
       "      <th>5</th>\n",
       "      <td>dog</td>\n",
       "      <td>7</td>\n",
       "    </tr>\n",
       "    <tr>\n",
       "      <th>6</th>\n",
       "      <td>rat</td>\n",
       "      <td>9</td>\n",
       "    </tr>\n",
       "  </tbody>\n",
       "</table>\n",
       "</div>"
      ],
      "text/plain": [
       "  animal  age\n",
       "0    cat    2\n",
       "1    dog    6\n",
       "2    cat    1\n",
       "3    rat    5\n",
       "4    bat    4\n",
       "5    dog    7\n",
       "6    rat    9"
      ]
     },
     "execution_count": 20,
     "metadata": {},
     "output_type": "execute_result"
    }
   ],
   "source": [
    "df = pd.DataFrame({'animal':['cat','dog','cat','rat','bat','dog','rat'],'age':[2,6,1,5,4,7,9]})\n",
    "print(df['animal'].dtype)\n",
    "print(df['age'].dtype)\n",
    "df['animal'] = df['animal'].astype(pd.CategoricalDtype())\n",
    "print(df['animal'].dtype)\n",
    "print(df['age'].dtype)\n",
    "df"
   ]
  },
  {
   "cell_type": "code",
   "execution_count": 22,
   "id": "fa8378ec",
   "metadata": {},
   "outputs": [
    {
     "data": {
      "text/plain": [
       "0     True\n",
       "1    False\n",
       "2     True\n",
       "3    False\n",
       "4     True\n",
       "5    False\n",
       "6     True\n",
       "dtype: bool"
      ]
     },
     "execution_count": 22,
     "metadata": {},
     "output_type": "execute_result"
    }
   ],
   "source": [
    "shirt_sizes = pd.Series(['S','M','L','XL','XXL'],dtype=pd.StringDtype())\n",
    "cat = pd.CategoricalDtype(shirt_sizes,ordered=True)\n",
    "ser = pd.Series(['M','L','S','XL','M','XXL','S'],dtype=cat)\n",
    "ser < 'L'"
   ]
  },
  {
   "cell_type": "code",
   "execution_count": 24,
   "id": "2c3794e9",
   "metadata": {},
   "outputs": [
    {
     "name": "stdout",
     "output_type": "stream",
     "text": [
      "str 2532\n",
      "cat 556\n"
     ]
    }
   ],
   "source": [
    "accepted_val = pd.Series(['foo','bar'],dtype=pd.StringDtype())\n",
    "cat = pd.CategoricalDtype(accepted_val)\n",
    "print('str',pd.Series(['foo','bar','baz'] * 100,dtype=pd.StringDtype()).memory_usage())\n",
    "print('cat',pd.Series(['foo','bar','baz'] * 100,dtype=cat).memory_usage())"
   ]
  },
  {
   "cell_type": "code",
   "execution_count": 1,
   "id": "47722dbb",
   "metadata": {},
   "outputs": [],
   "source": [
    "import pandas as pd\n",
    "import numpy as np"
   ]
  },
  {
   "cell_type": "code",
   "execution_count": 2,
   "id": "5ab95acf",
   "metadata": {},
   "outputs": [],
   "source": [
    "data = [[1, 'Wang', 'Allen'], [2, 'Alice', 'Bob']]\n",
    "person = pd.DataFrame(data, columns=['personId', 'firstName', 'lastName']).astype({'personId':'Int64', 'firstName':'object', 'lastName':'object'})\n",
    "data = [[1, 2, 'New York City', 'New York'], [2, 3, 'Leetcode', 'California']]\n",
    "address = pd.DataFrame(data, columns=['addressId', 'personId', 'city', 'state']).astype({'addressId':'Int64', 'personId':'Int64', 'city':'object', 'state':'object'})"
   ]
  },
  {
   "cell_type": "code",
   "execution_count": null,
   "id": "db196642",
   "metadata": {},
   "outputs": [
    {
     "data": {
      "text/html": [
       "<div>\n",
       "<style scoped>\n",
       "    .dataframe tbody tr th:only-of-type {\n",
       "        vertical-align: middle;\n",
       "    }\n",
       "\n",
       "    .dataframe tbody tr th {\n",
       "        vertical-align: top;\n",
       "    }\n",
       "\n",
       "    .dataframe thead th {\n",
       "        text-align: right;\n",
       "    }\n",
       "</style>\n",
       "<table border=\"1\" class=\"dataframe\">\n",
       "  <thead>\n",
       "    <tr style=\"text-align: right;\">\n",
       "      <th></th>\n",
       "      <th>personId</th>\n",
       "      <th>firstName</th>\n",
       "      <th>lastName</th>\n",
       "      <th>addressId</th>\n",
       "      <th>city</th>\n",
       "      <th>state</th>\n",
       "    </tr>\n",
       "  </thead>\n",
       "  <tbody>\n",
       "    <tr>\n",
       "      <th>0</th>\n",
       "      <td>1</td>\n",
       "      <td>Wang</td>\n",
       "      <td>Allen</td>\n",
       "      <td>&lt;NA&gt;</td>\n",
       "      <td>NaN</td>\n",
       "      <td>NaN</td>\n",
       "    </tr>\n",
       "    <tr>\n",
       "      <th>1</th>\n",
       "      <td>2</td>\n",
       "      <td>Alice</td>\n",
       "      <td>Bob</td>\n",
       "      <td>1</td>\n",
       "      <td>New York City</td>\n",
       "      <td>New York</td>\n",
       "    </tr>\n",
       "  </tbody>\n",
       "</table>\n",
       "</div>"
      ],
      "text/plain": [
       "   personId firstName lastName  addressId           city     state\n",
       "0         1      Wang    Allen       <NA>            NaN       NaN\n",
       "1         2     Alice      Bob          1  New York City  New York"
      ]
     },
     "execution_count": 3,
     "metadata": {},
     "output_type": "execute_result"
    }
   ],
   "source": [
    "df = pd.merge(person,address,how='left',on=['personId','personId'])\n",
    "df"
   ]
  }
 ],
 "metadata": {
  "kernelspec": {
   "display_name": "python_practice",
   "language": "python",
   "name": "python3"
  },
  "language_info": {
   "codemirror_mode": {
    "name": "ipython",
    "version": 3
   },
   "file_extension": ".py",
   "mimetype": "text/x-python",
   "name": "python",
   "nbconvert_exporter": "python",
   "pygments_lexer": "ipython3",
   "version": "3.12.7"
  }
 },
 "nbformat": 4,
 "nbformat_minor": 5
}
